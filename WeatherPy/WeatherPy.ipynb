{
 "cells": [
  {
   "cell_type": "code",
   "execution_count": 1,
   "metadata": {},
   "outputs": [],
   "source": [
    "import matplotlib.pyplot as plt\n",
    "import pandas as pd\n",
    "import numpy as np\n",
    "import requests\n",
    "import time\n",
    "from scipy.stats import linregress\n",
    "import os.path\n",
    "\n",
    "# Import API key\n",
    "from config import weather_api_key\n",
    "from config import g_key\n",
    "\n",
    "# Incorporated citipy to determine city based on latitude and longitude\n",
    "from citipy import citipy\n",
    "\n",
    "# Output File (CSV)\n",
    "output_data_file = \"output_data/cities.csv\"\n",
    "\n",
    "# Range of latitudes and longitudes\n",
    "lat_range = (-90, 90)\n",
    "lng_range = (-180, 180)"
   ]
  },
  {
   "cell_type": "code",
   "execution_count": 2,
   "metadata": {},
   "outputs": [
    {
     "data": {
      "text/plain": [
       "587"
      ]
     },
     "execution_count": 2,
     "metadata": {},
     "output_type": "execute_result"
    }
   ],
   "source": [
    "# List for holding lat_lngs and cities\n",
    "lat_lngs = []\n",
    "cities = []\n",
    "\n",
    "# Create a set of random lat and lng combinations\n",
    "lats = np.random.uniform(lat_range[0], lat_range[1], size=1500)\n",
    "lngs = np.random.uniform(lng_range[0], lng_range[1], size=1500)\n",
    "lat_lngs = zip(lats, lngs)\n",
    "\n",
    "# Identify nearest city for each lat, lng combination\n",
    "for lat_lng in lat_lngs:\n",
    "    city = citipy.nearest_city(lat_lng[0], lat_lng[1]).city_name\n",
    "    \n",
    "    # If the city is unique, then add it to a our cities list\n",
    "    if city not in cities:\n",
    "        cities.append(city)\n",
    "\n",
    "      \n",
    "# Print the city count to confirm sufficient count\n",
    "len(cities)"
   ]
  },
  {
   "cell_type": "code",
   "execution_count": 3,
   "metadata": {},
   "outputs": [],
   "source": [
    "# Perform weather check on each city using a series of successive API calls\n",
    "# Include a print log of each cit as it is being processed (with the city number and name)\n",
    "url = \"http://api.openweathermap.org/data/2.5/forecast?id=2172797&APPID=\"\n",
    "target_url = url + weather_api_key"
   ]
  },
  {
   "cell_type": "code",
   "execution_count": 4,
   "metadata": {},
   "outputs": [
    {
     "name": "stdout",
     "output_type": "stream",
     "text": [
      "Processing record 1 of Set 1 | coffs harbour\n",
      "Processing record 2 of Set 1 | zacapu\n",
      "Processing record 3 of Set 1 | jalu\n",
      "Processing record 4 of Set 1 | khatanga\n",
      "Processing record 5 of Set 1 | punta arenas\n",
      "Processing record 6 of Set 1 | chokurdakh\n",
      "Processing record 7 of Set 1 | ostrovnoy\n",
      "Record not found\n",
      "Processing record 8 of Set 1 | armeria\n",
      "Record not found\n",
      "Processing record 9 of Set 1 | ribeira grande\n",
      "Processing record 10 of Set 1 | qaanaaq\n",
      "Processing record 11 of Set 1 | bluff\n",
      "Record not found\n",
      "Processing record 12 of Set 1 | kruisfontein\n",
      "Processing record 13 of Set 1 | mataura\n",
      "Processing record 14 of Set 1 | cacule\n",
      "Processing record 15 of Set 1 | bathsheba\n",
      "Processing record 16 of Set 1 | guatire\n",
      "Processing record 17 of Set 1 | rikitea\n",
      "Processing record 18 of Set 1 | chuy\n",
      "Processing record 19 of Set 1 | shimoda\n",
      "Processing record 20 of Set 1 | kropotkin\n",
      "Processing record 21 of Set 1 | marienburg\n",
      "Processing record 22 of Set 1 | simpang empat\n",
      "Processing record 23 of Set 1 | cherskiy\n",
      "Processing record 24 of Set 1 | albany\n",
      "Processing record 25 of Set 1 | lompoc\n",
      "Processing record 26 of Set 1 | kapaa\n",
      "Processing record 27 of Set 1 | touros\n",
      "Processing record 28 of Set 1 | lorengau\n",
      "Processing record 29 of Set 1 | cidreira\n",
      "Processing record 30 of Set 1 | dikson\n",
      "Processing record 31 of Set 1 | havre-saint-pierre\n",
      "Processing record 32 of Set 1 | salalah\n",
      "Processing record 33 of Set 1 | kavieng\n",
      "Processing record 34 of Set 1 | norman wells\n",
      "Processing record 35 of Set 1 | praia da vitoria\n",
      "Processing record 36 of Set 1 | polovinnoye\n",
      "Record not found\n",
      "Processing record 37 of Set 1 | moron\n",
      "Processing record 38 of Set 1 | nanortalik\n",
      "Processing record 39 of Set 1 | new norfolk\n",
      "Processing record 40 of Set 1 | ubinskoye\n",
      "Processing record 41 of Set 1 | naze\n",
      "Processing record 42 of Set 1 | longyearbyen\n",
      "Processing record 43 of Set 1 | lavrentiya\n",
      "Processing record 44 of Set 1 | vukovar\n",
      "Processing record 45 of Set 1 | plettenberg bay\n",
      "Processing record 46 of Set 1 | manta\n",
      "Processing record 47 of Set 1 | phitsanulok\n",
      "Record not found\n",
      "Processing record 48 of Set 1 | ushuaia\n",
      "Processing record 49 of Set 1 | torbay\n",
      "Processing record 50 of Set 1 | san cristobal\n",
      "Processing record 51 of Set 1 | gubkinskiy\n",
      "Processing record 52 of Set 1 | geraldton\n",
      "Processing record 53 of Set 1 | pafos\n",
      "Processing record 54 of Set 1 | vardo\n",
      "Processing record 55 of Set 1 | port lincoln\n",
      "Record not found\n",
      "Processing record 56 of Set 1 | port alfred\n",
      "Processing record 57 of Set 1 | buraydah\n",
      "Processing record 58 of Set 1 | castro\n",
      "Processing record 59 of Set 1 | sioux lookout\n",
      "Processing record 60 of Set 1 | yellowknife\n",
      "Processing record 61 of Set 1 | georgetown\n",
      "Processing record 62 of Set 1 | slave lake\n",
      "Processing record 63 of Set 1 | manaus\n",
      "Processing record 64 of Set 1 | si sa ket\n",
      "Record not found\n",
      "Record not found\n",
      "Processing record 65 of Set 1 | kirakira\n",
      "Processing record 66 of Set 1 | mar del plata\n",
      "Processing record 67 of Set 1 | hithadhoo\n",
      "Processing record 68 of Set 1 | port elizabeth\n",
      "Processing record 69 of Set 1 | vaini\n",
      "Processing record 70 of Set 1 | banda aceh\n",
      "Processing record 71 of Set 1 | mwense\n",
      "Processing record 72 of Set 1 | cape town\n",
      "Record not found\n",
      "Processing record 73 of Set 1 | marsa matruh\n",
      "Processing record 74 of Set 1 | pacific grove\n",
      "Processing record 75 of Set 1 | sita road\n",
      "Processing record 76 of Set 1 | mount gambier\n",
      "Processing record 77 of Set 1 | mecca\n",
      "Processing record 78 of Set 1 | hervey bay\n",
      "Processing record 79 of Set 1 | klaksvik\n",
      "Processing record 80 of Set 1 | salinopolis\n",
      "Processing record 81 of Set 1 | fortuna\n",
      "Processing record 82 of Set 1 | victoria\n",
      "Processing record 83 of Set 1 | chenzhou\n",
      "Processing record 84 of Set 1 | bredasdorp\n",
      "Processing record 85 of Set 1 | fort nelson\n",
      "Processing record 86 of Set 1 | praya\n",
      "Record not found\n",
      "Processing record 87 of Set 1 | puerto ayora\n",
      "Processing record 88 of Set 1 | luderitz\n",
      "Processing record 89 of Set 1 | nome\n",
      "Record not found\n",
      "Processing record 90 of Set 1 | kodiak\n",
      "Processing record 91 of Set 1 | meulaboh\n",
      "Processing record 92 of Set 1 | brewster\n",
      "Processing record 93 of Set 1 | vao\n",
      "Processing record 94 of Set 1 | gornopravdinsk\n",
      "Processing record 95 of Set 1 | maraa\n",
      "Processing record 96 of Set 1 | asau\n",
      "Processing record 97 of Set 1 | mahebourg\n",
      "Processing record 98 of Set 1 | busselton\n",
      "Processing record 99 of Set 1 | arrecife\n",
      "Processing record 100 of Set 1 | thompson\n",
      "Processing record 101 of Set 1 | mitu\n",
      "Processing record 102 of Set 1 | vanimo\n",
      "Processing record 103 of Set 1 | ilinskiy\n",
      "Processing record 104 of Set 1 | isla vista\n",
      "Processing record 105 of Set 1 | sambava\n",
      "Processing record 106 of Set 1 | roald\n",
      "Processing record 107 of Set 1 | iskenderun\n",
      "Processing record 108 of Set 1 | kabinda\n",
      "Processing record 109 of Set 1 | buala\n",
      "Processing record 110 of Set 1 | port jervis\n",
      "Record not found\n",
      "Record not found\n",
      "Processing record 111 of Set 1 | saskylakh\n",
      "Processing record 112 of Set 1 | palana\n",
      "Processing record 113 of Set 1 | provideniya\n",
      "Processing record 114 of Set 1 | cayenne\n",
      "Processing record 115 of Set 1 | bambous virieux\n",
      "Processing record 116 of Set 1 | hermanus\n",
      "Record not found\n",
      "Processing record 117 of Set 1 | airai\n",
      "Processing record 118 of Set 1 | cividale del friuli\n",
      "Processing record 119 of Set 1 | zhezkazgan\n",
      "Processing record 120 of Set 1 | lubao\n",
      "Processing record 121 of Set 1 | tazovskiy\n",
      "Processing record 122 of Set 1 | lagoa\n",
      "Processing record 123 of Set 1 | oranjemund\n",
      "Processing record 124 of Set 1 | henties bay\n",
      "Processing record 125 of Set 1 | amapa\n",
      "Processing record 126 of Set 1 | faya\n",
      "Processing record 127 of Set 1 | cabedelo\n",
      "Processing record 128 of Set 1 | mareeba\n",
      "Processing record 129 of Set 1 | vila velha\n",
      "Processing record 130 of Set 1 | salekhard\n",
      "Record not found\n",
      "Processing record 131 of Set 1 | alofi\n",
      "Processing record 132 of Set 1 | karratha\n",
      "Record not found\n",
      "Processing record 133 of Set 1 | arkhara\n",
      "Processing record 134 of Set 1 | arraial do cabo\n",
      "Processing record 135 of Set 1 | iskateley\n",
      "Processing record 136 of Set 1 | laguna\n",
      "Processing record 137 of Set 1 | jamestown\n",
      "Processing record 138 of Set 1 | carnarvon\n",
      "Processing record 139 of Set 1 | fairbanks\n",
      "Processing record 140 of Set 1 | bandarbeyla\n",
      "Processing record 141 of Set 1 | dordrecht\n",
      "Processing record 142 of Set 1 | souillac\n",
      "Processing record 143 of Set 1 | charagua\n",
      "Processing record 144 of Set 1 | dicabisagan\n",
      "Processing record 145 of Set 1 | atuona\n",
      "Processing record 146 of Set 1 | bosaso\n",
      "Processing record 147 of Set 1 | barrow\n",
      "Processing record 148 of Set 1 | meadow lake\n",
      "Processing record 149 of Set 1 | kavaratti\n",
      "Processing record 150 of Set 1 | xining\n",
      "Record not found\n",
      "Processing record 151 of Set 1 | mwinilunga\n",
      "Processing record 152 of Set 1 | nara\n",
      "Processing record 153 of Set 1 | teknaf\n",
      "Processing record 154 of Set 1 | saint george\n",
      "Processing record 155 of Set 1 | hasaki\n",
      "Processing record 156 of Set 1 | husavik\n",
      "Record not found\n",
      "Processing record 157 of Set 1 | hobart\n",
      "Processing record 158 of Set 1 | parauna\n",
      "Processing record 159 of Set 1 | srednekolymsk\n",
      "Processing record 160 of Set 1 | wurzen\n",
      "Processing record 161 of Set 1 | broome\n",
      "Processing record 162 of Set 1 | romny\n",
      "Processing record 163 of Set 1 | east london\n",
      "Processing record 164 of Set 1 | upernavik\n",
      "Processing record 165 of Set 1 | morehead\n",
      "Processing record 166 of Set 1 | hudson bay\n",
      "Processing record 167 of Set 1 | ardesen\n",
      "Processing record 168 of Set 1 | zyryanka\n",
      "Processing record 169 of Set 1 | cache creek\n",
      "Processing record 170 of Set 1 | koudougou\n",
      "Processing record 171 of Set 1 | faanui\n",
      "Processing record 172 of Set 1 | hambantota\n",
      "Processing record 173 of Set 1 | havoysund\n",
      "Processing record 174 of Set 1 | lubango\n",
      "Processing record 175 of Set 1 | carballo\n",
      "Processing record 176 of Set 1 | bara\n",
      "Processing record 177 of Set 1 | new castle\n",
      "Processing record 178 of Set 1 | san patricio\n",
      "Processing record 179 of Set 1 | camacha\n",
      "Processing record 180 of Set 1 | chapada dos guimaraes\n",
      "Processing record 181 of Set 1 | outlook\n",
      "Processing record 182 of Set 1 | tasiilaq\n",
      "Processing record 183 of Set 1 | severo-kurilsk\n",
      "Processing record 184 of Set 1 | tuktoyaktuk\n",
      "Processing record 185 of Set 1 | mantua\n",
      "Processing record 186 of Set 1 | pangnirtung\n",
      "Processing record 187 of Set 1 | bwanga\n",
      "Processing record 188 of Set 1 | acapulco\n",
      "Processing record 189 of Set 1 | vila franca do campo\n"
     ]
    },
    {
     "name": "stdout",
     "output_type": "stream",
     "text": [
      "Processing record 190 of Set 1 | hilo\n",
      "Processing record 191 of Set 1 | el alto\n",
      "Processing record 192 of Set 1 | ilulissat\n",
      "Processing record 193 of Set 1 | mulege\n",
      "Processing record 194 of Set 1 | san vicente\n",
      "Processing record 195 of Set 1 | hobyo\n",
      "Processing record 196 of Set 1 | tilichiki\n",
      "Processing record 197 of Set 1 | kaitangata\n",
      "Processing record 198 of Set 1 | hit\n",
      "Record not found\n",
      "Processing record 199 of Set 1 | beloha\n",
      "Processing record 200 of Set 1 | mount isa\n",
      "Processing record 201 of Set 1 | constitucion\n",
      "Processing record 202 of Set 1 | inirida\n",
      "Processing record 203 of Set 1 | dingle\n",
      "Processing record 204 of Set 1 | bubaque\n",
      "Processing record 205 of Set 1 | tezu\n",
      "Processing record 206 of Set 1 | kuytun\n",
      "Record not found\n",
      "Processing record 207 of Set 1 | chapais\n",
      "Processing record 208 of Set 1 | cooma\n",
      "Processing record 209 of Set 1 | sinnamary\n",
      "Processing record 210 of Set 1 | wonthaggi\n",
      "Processing record 211 of Set 1 | los llanos de aridane\n",
      "Processing record 212 of Set 1 | nouadhibou\n",
      "Processing record 213 of Set 1 | vangaindrano\n",
      "Processing record 214 of Set 1 | rio grande\n",
      "Processing record 215 of Set 1 | kiyasovo\n",
      "Processing record 216 of Set 1 | smoky lake\n",
      "Processing record 217 of Set 1 | payo\n",
      "Processing record 218 of Set 1 | college\n",
      "Processing record 219 of Set 1 | baiyin\n",
      "Processing record 220 of Set 1 | butaritari\n",
      "Processing record 221 of Set 1 | ierapetra\n",
      "Processing record 222 of Set 1 | kismayo\n",
      "Processing record 223 of Set 1 | palmer\n",
      "Processing record 224 of Set 1 | tomatlan\n",
      "Processing record 225 of Set 1 | waddan\n",
      "Processing record 226 of Set 1 | punta gorda\n",
      "Processing record 227 of Set 1 | jieznas\n",
      "Processing record 228 of Set 1 | leningradskiy\n",
      "Processing record 229 of Set 1 | christchurch\n",
      "Processing record 230 of Set 1 | anda\n",
      "Processing record 231 of Set 1 | lata\n",
      "Processing record 232 of Set 1 | tiarei\n",
      "Processing record 233 of Set 1 | irituia\n",
      "Processing record 234 of Set 1 | choix\n",
      "Processing record 235 of Set 1 | richards bay\n",
      "Processing record 236 of Set 1 | isoka\n",
      "Processing record 237 of Set 1 | nikolskoye\n",
      "Processing record 238 of Set 1 | viedma\n",
      "Processing record 239 of Set 1 | southbridge\n",
      "Record not found\n",
      "Processing record 240 of Set 1 | manono\n",
      "Processing record 241 of Set 1 | linqiong\n",
      "Processing record 242 of Set 1 | lixourion\n",
      "Processing record 243 of Set 1 | guerrero negro\n",
      "Processing record 244 of Set 1 | yeppoon\n",
      "Processing record 245 of Set 1 | iqaluit\n",
      "Processing record 246 of Set 1 | mizdah\n",
      "Processing record 247 of Set 1 | clyde river\n",
      "Processing record 248 of Set 1 | aska\n",
      "Processing record 249 of Set 1 | corrente\n",
      "Processing record 250 of Set 1 | agirish\n",
      "Processing record 251 of Set 1 | pangkalanbuun\n",
      "Processing record 252 of Set 1 | codrington\n",
      "Processing record 253 of Set 1 | corum\n",
      "Processing record 254 of Set 1 | stykkisholmur\n",
      "Processing record 255 of Set 1 | oranjestad\n",
      "Processing record 256 of Set 1 | biak\n",
      "Processing record 257 of Set 1 | lebu\n",
      "Record not found\n",
      "Processing record 258 of Set 1 | half moon bay\n",
      "Processing record 259 of Set 1 | harpanahalli\n",
      "Processing record 260 of Set 1 | birjand\n",
      "Record not found\n",
      "Processing record 261 of Set 1 | narsaq\n",
      "Processing record 262 of Set 1 | poum\n",
      "Record not found\n",
      "Processing record 263 of Set 1 | zhanakorgan\n",
      "Processing record 264 of Set 1 | champerico\n",
      "Processing record 265 of Set 1 | port hardy\n",
      "Processing record 266 of Set 1 | bisert\n",
      "Processing record 267 of Set 1 | verkhnevilyuysk\n",
      "Processing record 268 of Set 1 | wawa\n",
      "Processing record 269 of Set 1 | cockburn town\n",
      "Processing record 270 of Set 1 | sitka\n",
      "Processing record 271 of Set 1 | flinders\n",
      "Processing record 272 of Set 1 | saint-philippe\n",
      "Processing record 273 of Set 1 | guaruja\n",
      "Processing record 274 of Set 1 | quatre cocos\n",
      "Processing record 275 of Set 1 | perivolion\n",
      "Processing record 276 of Set 1 | muros\n",
      "Processing record 277 of Set 1 | camopi\n",
      "Record not found\n",
      "Processing record 278 of Set 1 | saldanha\n",
      "Processing record 279 of Set 1 | hun\n",
      "Processing record 280 of Set 1 | yarega\n",
      "Processing record 281 of Set 1 | odoyev\n",
      "Processing record 282 of Set 1 | derzhavinsk\n",
      "Processing record 283 of Set 1 | rosario\n",
      "Processing record 284 of Set 1 | pevek\n",
      "Processing record 285 of Set 1 | horki\n",
      "Processing record 286 of Set 1 | porbandar\n",
      "Processing record 287 of Set 1 | rundu\n",
      "Record not found\n",
      "Processing record 288 of Set 1 | ndele\n",
      "Processing record 289 of Set 1 | vostok\n",
      "Processing record 290 of Set 1 | sisimiut\n",
      "Processing record 291 of Set 1 | ubon ratchathani\n",
      "Processing record 292 of Set 1 | qaqortoq\n",
      "Processing record 293 of Set 1 | sirsi\n",
      "Processing record 294 of Set 1 | chontalpa\n",
      "Processing record 295 of Set 1 | dekar\n",
      "Processing record 296 of Set 1 | jilib\n",
      "Processing record 297 of Set 1 | broken hill\n",
      "Processing record 298 of Set 1 | adrar\n",
      "Processing record 299 of Set 1 | noyon\n",
      "Processing record 300 of Set 1 | ovsyanka\n",
      "Processing record 301 of Set 1 | port-gentil\n",
      "Processing record 302 of Set 1 | danane\n",
      "Processing record 303 of Set 1 | bambanglipuro\n",
      "Processing record 304 of Set 1 | arman\n",
      "Processing record 305 of Set 1 | tucuman\n",
      "Processing record 306 of Set 1 | ciudad del maiz\n",
      "Processing record 307 of Set 1 | talnakh\n",
      "Processing record 308 of Set 1 | paraguari\n",
      "Processing record 309 of Set 1 | northam\n",
      "Processing record 310 of Set 1 | kahului\n",
      "Processing record 311 of Set 1 | karia\n",
      "Processing record 312 of Set 1 | mahibadhoo\n",
      "Processing record 313 of Set 1 | zarate\n",
      "Record not found\n",
      "Processing record 314 of Set 1 | nyurba\n",
      "Processing record 315 of Set 1 | namatanai\n",
      "Processing record 316 of Set 1 | moose factory\n",
      "Record not found\n",
      "Processing record 317 of Set 1 | shingu\n",
      "Processing record 318 of Set 1 | saint-augustin\n",
      "Processing record 319 of Set 1 | santa ana\n",
      "Processing record 320 of Set 1 | avarua\n",
      "Processing record 321 of Set 1 | boa vista\n",
      "Processing record 322 of Set 1 | kinshasa\n",
      "Processing record 323 of Set 1 | pringsewu\n",
      "Record not found\n",
      "Processing record 324 of Set 1 | verkhoyansk\n",
      "Processing record 325 of Set 1 | bagdarin\n",
      "Processing record 326 of Set 1 | wewak\n",
      "Processing record 327 of Set 1 | aykhal\n",
      "Processing record 328 of Set 1 | pochutla\n",
      "Processing record 329 of Set 1 | evensk\n",
      "Processing record 330 of Set 1 | adwa\n",
      "Processing record 331 of Set 1 | bilma\n",
      "Record not found\n",
      "Processing record 332 of Set 1 | maragogi\n",
      "Processing record 333 of Set 1 | sao joao da barra\n",
      "Processing record 334 of Set 1 | bluefield\n",
      "Processing record 335 of Set 1 | pierreville\n",
      "Processing record 336 of Set 1 | sovetskiy\n",
      "Processing record 337 of Set 1 | coihaique\n",
      "Processing record 338 of Set 1 | oistins\n",
      "Processing record 339 of Set 1 | hefei\n",
      "Processing record 340 of Set 1 | olafsvik\n",
      "Processing record 341 of Set 1 | posyet\n",
      "Processing record 342 of Set 1 | umm lajj\n",
      "Processing record 343 of Set 1 | pinheiro\n",
      "Record not found\n",
      "Processing record 344 of Set 1 | tabuk\n",
      "Processing record 345 of Set 1 | altay\n",
      "Processing record 346 of Set 1 | vitim\n",
      "Record not found\n",
      "Processing record 347 of Set 1 | ekuvukeni\n",
      "Processing record 348 of Set 1 | jishu\n",
      "Processing record 349 of Set 1 | hami\n",
      "Processing record 350 of Set 1 | takoradi\n",
      "Processing record 351 of Set 1 | quesnel\n",
      "Processing record 352 of Set 1 | labuhan\n",
      "Processing record 353 of Set 1 | ghanzi\n",
      "Processing record 354 of Set 1 | caluquembe\n",
      "Processing record 355 of Set 1 | luena\n",
      "Processing record 356 of Set 1 | sao gabriel da cachoeira\n",
      "Processing record 357 of Set 1 | port blair\n",
      "Processing record 358 of Set 1 | tura\n",
      "Processing record 359 of Set 1 | estevan\n",
      "Processing record 360 of Set 1 | flin flon\n",
      "Processing record 361 of Set 1 | huarmey\n",
      "Processing record 362 of Set 1 | podor\n",
      "Processing record 363 of Set 1 | lasa\n",
      "Processing record 364 of Set 1 | sibu\n",
      "Processing record 365 of Set 1 | podgorenskiy\n",
      "Processing record 366 of Set 1 | liverpool\n",
      "Processing record 367 of Set 1 | alcudia\n",
      "Processing record 368 of Set 1 | hamois\n",
      "Processing record 369 of Set 1 | jatiroto\n",
      "Record not found\n",
      "Processing record 370 of Set 1 | san benito\n",
      "Processing record 371 of Set 1 | tevriz\n",
      "Processing record 372 of Set 1 | awbari\n",
      "Processing record 373 of Set 1 | tanete\n",
      "Processing record 374 of Set 1 | saint-pierre\n",
      "Processing record 375 of Set 1 | coquimbo\n",
      "Processing record 376 of Set 1 | comodoro rivadavia\n",
      "Processing record 377 of Set 1 | nelson bay\n",
      "Record not found\n",
      "Processing record 378 of Set 1 | shitanjing\n",
      "Processing record 379 of Set 1 | burnie\n"
     ]
    },
    {
     "name": "stdout",
     "output_type": "stream",
     "text": [
      "Processing record 380 of Set 1 | sistranda\n",
      "Processing record 381 of Set 1 | leh\n",
      "Processing record 382 of Set 1 | glens falls\n",
      "Processing record 383 of Set 1 | ponta do sol\n",
      "Processing record 384 of Set 1 | pervoavgustovskiy\n",
      "Processing record 385 of Set 1 | kokopo\n",
      "Processing record 386 of Set 1 | mont-dore\n",
      "Processing record 387 of Set 1 | antofagasta\n",
      "Processing record 388 of Set 1 | mbekenyera\n",
      "Processing record 389 of Set 1 | staryy nadym\n",
      "Processing record 390 of Set 1 | maxixe\n",
      "Processing record 391 of Set 1 | bandar-e lengeh\n",
      "Processing record 392 of Set 1 | gotsu\n",
      "Processing record 393 of Set 1 | ati\n",
      "Processing record 394 of Set 1 | linxia\n",
      "Processing record 395 of Set 1 | lajas\n",
      "Processing record 396 of Set 1 | great bend\n",
      "Processing record 397 of Set 1 | mana\n",
      "Record not found\n",
      "Processing record 398 of Set 1 | gumdag\n",
      "Processing record 399 of Set 1 | lamego\n",
      "Processing record 400 of Set 1 | chiredzi\n",
      "Processing record 401 of Set 1 | yumen\n",
      "Processing record 402 of Set 1 | gao\n",
      "Processing record 403 of Set 1 | alice springs\n",
      "Processing record 404 of Set 1 | inongo\n",
      "Processing record 405 of Set 1 | florida\n",
      "Processing record 406 of Set 1 | corn island\n",
      "Processing record 407 of Set 1 | sibolga\n",
      "Record not found\n",
      "Processing record 408 of Set 1 | bethel\n",
      "Processing record 409 of Set 1 | chernyshevskiy\n",
      "Processing record 410 of Set 1 | marawi\n",
      "Processing record 411 of Set 1 | richmond\n",
      "Processing record 412 of Set 1 | fez\n",
      "Processing record 413 of Set 1 | qandala\n",
      "Processing record 414 of Set 1 | ponta delgada\n",
      "Processing record 415 of Set 1 | ahipara\n",
      "Processing record 416 of Set 1 | mackay\n",
      "Processing record 417 of Set 1 | tuatapere\n",
      "Processing record 418 of Set 1 | kumhari\n",
      "Processing record 419 of Set 1 | aklavik\n",
      "Processing record 420 of Set 1 | brae\n",
      "Processing record 421 of Set 1 | yerbogachen\n",
      "Processing record 422 of Set 1 | serebryansk\n",
      "Processing record 423 of Set 1 | lerwick\n",
      "Processing record 424 of Set 1 | revin\n",
      "Processing record 425 of Set 1 | keti bandar\n",
      "Processing record 426 of Set 1 | getulio vargas\n",
      "Processing record 427 of Set 1 | saint-joseph\n",
      "Processing record 428 of Set 1 | mosquera\n",
      "Processing record 429 of Set 1 | yar-sale\n",
      "Processing record 430 of Set 1 | sao geraldo do araguaia\n",
      "Processing record 431 of Set 1 | carauari\n",
      "Processing record 432 of Set 1 | dunedin\n",
      "Processing record 433 of Set 1 | deep river\n",
      "Processing record 434 of Set 1 | cabo san lucas\n",
      "Processing record 435 of Set 1 | tautira\n",
      "Processing record 436 of Set 1 | hirara\n",
      "Processing record 437 of Set 1 | gat\n",
      "Processing record 438 of Set 1 | san andres\n",
      "Processing record 439 of Set 1 | dryden\n",
      "Processing record 440 of Set 1 | yerofey pavlovich\n",
      "Record not found\n",
      "Processing record 441 of Set 1 | katherine\n",
      "Processing record 442 of Set 1 | aksu\n",
      "Processing record 443 of Set 1 | porto recanati\n",
      "Processing record 444 of Set 1 | hofn\n",
      "Processing record 445 of Set 1 | kiruna\n",
      "Processing record 446 of Set 1 | springbok\n",
      "Processing record 447 of Set 1 | kodinsk\n",
      "Processing record 448 of Set 1 | humaita\n",
      "Processing record 449 of Set 1 | nadym\n",
      "Processing record 450 of Set 1 | nusaybin\n",
      "Processing record 451 of Set 1 | esperance\n",
      "Processing record 452 of Set 1 | avera\n",
      "Processing record 453 of Set 1 | kamenka\n",
      "Processing record 454 of Set 1 | usinsk\n",
      "Processing record 455 of Set 1 | san pedro\n",
      "Processing record 456 of Set 1 | chimbote\n",
      "Processing record 457 of Set 1 | paamiut\n",
      "Processing record 458 of Set 1 | haines junction\n",
      "Record not found\n",
      "Processing record 459 of Set 1 | dalvik\n",
      "Record not found\n",
      "Processing record 460 of Set 1 | karpathos\n",
      "Record not found\n",
      "Processing record 461 of Set 1 | batemans bay\n",
      "Processing record 462 of Set 1 | puertollano\n",
      "Processing record 463 of Set 1 | vanavara\n",
      "Processing record 464 of Set 1 | sao filipe\n",
      "Processing record 465 of Set 1 | ugoofaaru\n",
      "Record not found\n",
      "Processing record 466 of Set 1 | madera\n",
      "Processing record 467 of Set 1 | ngunguru\n",
      "Processing record 468 of Set 1 | urumqi\n",
      "Processing record 469 of Set 1 | atar\n",
      "Processing record 470 of Set 1 | hereford\n",
      "Processing record 471 of Set 1 | mairang\n",
      "Record not found\n",
      "Processing record 472 of Set 1 | bull savanna\n",
      "Processing record 473 of Set 1 | pisco\n",
      "Processing record 474 of Set 1 | rawson\n",
      "Processing record 475 of Set 1 | vestmannaeyjar\n",
      "Processing record 476 of Set 1 | ous\n",
      "Processing record 477 of Set 1 | rocha\n",
      "Processing record 478 of Set 1 | moerai\n",
      "Processing record 479 of Set 1 | kenai\n",
      "Processing record 480 of Set 1 | luba\n",
      "Processing record 481 of Set 1 | prince rupert\n",
      "Processing record 482 of Set 1 | dourbali\n",
      "Record not found\n",
      "Processing record 483 of Set 1 | aldan\n",
      "Processing record 484 of Set 1 | champua\n",
      "Processing record 485 of Set 1 | lena\n",
      "Processing record 486 of Set 1 | bhag\n",
      "Processing record 487 of Set 1 | esso\n",
      "Processing record 488 of Set 1 | powell river\n",
      "Processing record 489 of Set 1 | hermosillo\n",
      "Processing record 490 of Set 1 | bijie\n",
      "Processing record 491 of Set 1 | murgab\n",
      "Processing record 492 of Set 1 | thomasville\n",
      "Processing record 493 of Set 1 | teluk nibung\n",
      "Processing record 494 of Set 1 | trairi\n",
      "Processing record 495 of Set 1 | ludvika\n",
      "Processing record 496 of Set 1 | ribeira brava\n",
      "Processing record 497 of Set 1 | belgrade\n",
      "Processing record 498 of Set 1 | bryan\n",
      "Processing record 499 of Set 1 | kutum\n",
      "Processing record 500 of Set 1 | ordu\n",
      "Processing record 501 of Set 1 | suntar\n",
      "Processing record 502 of Set 1 | gazanjyk\n",
      "Processing record 503 of Set 1 | puerto madryn\n",
      "Processing record 504 of Set 1 | anadyr\n",
      "Processing record 505 of Set 1 | tiksi\n",
      "Processing record 506 of Set 1 | nosy varika\n",
      "Processing record 507 of Set 1 | inhambane\n",
      "Processing record 508 of Set 1 | naudero\n",
      "Processing record 509 of Set 1 | port moresby\n",
      "Processing record 510 of Set 1 | te anau\n",
      "Processing record 511 of Set 1 | kedrovyy\n",
      "Processing record 512 of Set 1 | russkaya polyana\n",
      "Processing record 513 of Set 1 | ulaangom\n",
      "Processing record 514 of Set 1 | rio tuba\n",
      "Processing record 515 of Set 1 | auki\n",
      "Record not found\n",
      "Processing record 516 of Set 1 | kondopoga\n",
      "Processing record 517 of Set 1 | ibra\n",
      "Processing record 518 of Set 1 | belene\n",
      "Processing record 519 of Set 1 | lazaro cardenas\n",
      "Processing record 520 of Set 1 | itaituba\n",
      "Processing record 521 of Set 1 | natalinsk\n",
      "Processing record 522 of Set 1 | nishihara\n",
      "Processing record 523 of Set 1 | cacoal\n",
      "Processing record 524 of Set 1 | sena madureira\n",
      "Processing record 525 of Set 1 | bida\n",
      "Processing record 526 of Set 1 | taldan\n",
      "Record not found\n",
      "Record not found\n",
      "Processing record 527 of Set 1 | pahrump\n",
      "Processing record 528 of Set 1 | savinka\n",
      "Processing record 529 of Set 1 | puerto ayacucho\n",
      "Processing record 530 of Set 1 | daru\n",
      "Processing record 531 of Set 1 | kaeo\n",
      "Processing record 532 of Set 1 | severo-yeniseyskiy\n",
      "Processing record 533 of Set 1 | okhotsk\n",
      "Processing record 534 of Set 1 | qurayyat\n",
      "Processing record 535 of Set 1 | makakilo city\n",
      "Processing record 536 of Set 1 | nago\n",
      "Processing record 537 of Set 1 | guthrie\n",
      "Processing record 538 of Set 1 | allen\n",
      "Processing record 539 of Set 1 | rongcheng\n",
      "Processing record 540 of Set 1 | egvekinot\n",
      "Processing record 541 of Set 1 | bengkulu\n",
      "Done processing through city data.\n"
     ]
    }
   ],
   "source": [
    "# set up lists to hold reponse info\n",
    "cityname = []\n",
    "cloudiness = []\n",
    "country = []\n",
    "date = []\n",
    "humidity = []\n",
    "lat = []\n",
    "lng = []\n",
    "max_temp = []\n",
    "wind_speed = []\n",
    "count = 0\n",
    "    \n",
    "# Loop through the list of cities and perform a request for data on each\n",
    "for city in cities:\n",
    "    weather_response = requests.get(target_url + \"&q=\" + city + \"&units=Imperial\")\n",
    "    weather_json = weather_response.json()\n",
    "    try:\n",
    "        cityname.append(weather_json['city']['name'])\n",
    "        cloudiness.append(weather_json['list'][0]['clouds']['all'])\n",
    "        country.append(weather_json['city']['country'])\n",
    "        date.append(weather_json['list'][0]['dt'])\n",
    "        humidity.append(weather_json['list'][0]['main']['humidity'])\n",
    "        lat.append(weather_json['city']['coord']['lat'])\n",
    "        lng.append(weather_json['city']['coord']['lon'])\n",
    "        max_temp.append(weather_json['list'][0]['main']['temp_max'])\n",
    "        wind_speed.append(weather_json['list'][0]['wind']['speed'])\n",
    "        count = count + 1\n",
    "        print(f\"Processing record {count} of Set 1 | {city}\")\n",
    "    except:\n",
    "        print(\"Record not found\") \n",
    "        pass\n",
    "    \n",
    "print(\"Done processing through city data.\")"
   ]
  },
  {
   "cell_type": "code",
   "execution_count": 5,
   "metadata": {},
   "outputs": [
    {
     "data": {
      "text/html": [
       "<div>\n",
       "<style scoped>\n",
       "    .dataframe tbody tr th:only-of-type {\n",
       "        vertical-align: middle;\n",
       "    }\n",
       "\n",
       "    .dataframe tbody tr th {\n",
       "        vertical-align: top;\n",
       "    }\n",
       "\n",
       "    .dataframe thead th {\n",
       "        text-align: right;\n",
       "    }\n",
       "</style>\n",
       "<table border=\"1\" class=\"dataframe\">\n",
       "  <thead>\n",
       "    <tr style=\"text-align: right;\">\n",
       "      <th></th>\n",
       "      <th>City</th>\n",
       "      <th>Latitude</th>\n",
       "      <th>Longitude</th>\n",
       "      <th>Max Temp</th>\n",
       "      <th>Humidity</th>\n",
       "      <th>Wind Speed</th>\n",
       "      <th>Cloudiness</th>\n",
       "      <th>Country</th>\n",
       "      <th>Date</th>\n",
       "    </tr>\n",
       "  </thead>\n",
       "  <tbody>\n",
       "    <tr>\n",
       "      <th>0</th>\n",
       "      <td>Coffs Harbour</td>\n",
       "      <td>-30.3000</td>\n",
       "      <td>153.1333</td>\n",
       "      <td>63.45</td>\n",
       "      <td>73</td>\n",
       "      <td>5.35</td>\n",
       "      <td>54</td>\n",
       "      <td>AU</td>\n",
       "      <td>1599436800</td>\n",
       "    </tr>\n",
       "    <tr>\n",
       "      <th>1</th>\n",
       "      <td>Zacapú</td>\n",
       "      <td>19.8333</td>\n",
       "      <td>-101.7167</td>\n",
       "      <td>66.63</td>\n",
       "      <td>86</td>\n",
       "      <td>1.43</td>\n",
       "      <td>87</td>\n",
       "      <td>MX</td>\n",
       "      <td>1599436800</td>\n",
       "    </tr>\n",
       "    <tr>\n",
       "      <th>2</th>\n",
       "      <td>Jalu</td>\n",
       "      <td>29.0331</td>\n",
       "      <td>21.5482</td>\n",
       "      <td>77.36</td>\n",
       "      <td>54</td>\n",
       "      <td>12.82</td>\n",
       "      <td>0</td>\n",
       "      <td>LY</td>\n",
       "      <td>1599436800</td>\n",
       "    </tr>\n",
       "    <tr>\n",
       "      <th>3</th>\n",
       "      <td>Khatanga</td>\n",
       "      <td>71.9667</td>\n",
       "      <td>102.5000</td>\n",
       "      <td>43.38</td>\n",
       "      <td>77</td>\n",
       "      <td>4.09</td>\n",
       "      <td>22</td>\n",
       "      <td>RU</td>\n",
       "      <td>1599436800</td>\n",
       "    </tr>\n",
       "    <tr>\n",
       "      <th>4</th>\n",
       "      <td>Punta Arenas</td>\n",
       "      <td>-53.1500</td>\n",
       "      <td>-70.9167</td>\n",
       "      <td>42.71</td>\n",
       "      <td>78</td>\n",
       "      <td>7.58</td>\n",
       "      <td>86</td>\n",
       "      <td>CL</td>\n",
       "      <td>1599436800</td>\n",
       "    </tr>\n",
       "  </tbody>\n",
       "</table>\n",
       "</div>"
      ],
      "text/plain": [
       "            City  Latitude  Longitude  Max Temp  Humidity  Wind Speed  \\\n",
       "0  Coffs Harbour  -30.3000   153.1333     63.45        73        5.35   \n",
       "1         Zacapú   19.8333  -101.7167     66.63        86        1.43   \n",
       "2           Jalu   29.0331    21.5482     77.36        54       12.82   \n",
       "3       Khatanga   71.9667   102.5000     43.38        77        4.09   \n",
       "4   Punta Arenas  -53.1500   -70.9167     42.71        78        7.58   \n",
       "\n",
       "   Cloudiness Country        Date  \n",
       "0          54      AU  1599436800  \n",
       "1          87      MX  1599436800  \n",
       "2           0      LY  1599436800  \n",
       "3          22      RU  1599436800  \n",
       "4          86      CL  1599436800  "
      ]
     },
     "execution_count": 5,
     "metadata": {},
     "output_type": "execute_result"
    }
   ],
   "source": [
    "#Convert Raw Data to DataFrame\n",
    "# Export the city data into a .csv & display the data frame\n",
    "# Convert array of JSONs into Pandas DataFrame\n",
    "\n",
    "weather_dict = {\"City\": cityname,\"Latitude\": lat, \"Longitude\":lng,\n",
    "                \"Max Temp\":max_temp,\"Humidity\":humidity,\n",
    "                \"Wind Speed\":wind_speed,\"Cloudiness\":cloudiness,\n",
    "                \"Country\":country, \"Date\":date}\n",
    "weather_data = pd.DataFrame(weather_dict)\n",
    "weather_data.head()"
   ]
  },
  {
   "cell_type": "code",
   "execution_count": 6,
   "metadata": {},
   "outputs": [],
   "source": [
    "# Export the City_Data into a csv\n",
    "weather_data.to_csv(r'my_weather_data.csv')"
   ]
  },
  {
   "cell_type": "code",
   "execution_count": 7,
   "metadata": {},
   "outputs": [],
   "source": [
    "#Inspect the data and remove the cities where the humidity > 100%.\n",
    "one_hund_humid = weather_data.loc[weather_data[\"Humidity\"] == 100,:]"
   ]
  },
  {
   "cell_type": "code",
   "execution_count": 8,
   "metadata": {},
   "outputs": [
    {
     "data": {
      "text/html": [
       "<div>\n",
       "<style scoped>\n",
       "    .dataframe tbody tr th:only-of-type {\n",
       "        vertical-align: middle;\n",
       "    }\n",
       "\n",
       "    .dataframe tbody tr th {\n",
       "        vertical-align: top;\n",
       "    }\n",
       "\n",
       "    .dataframe thead th {\n",
       "        text-align: right;\n",
       "    }\n",
       "</style>\n",
       "<table border=\"1\" class=\"dataframe\">\n",
       "  <thead>\n",
       "    <tr style=\"text-align: right;\">\n",
       "      <th></th>\n",
       "      <th>City</th>\n",
       "      <th>Latitude</th>\n",
       "      <th>Longitude</th>\n",
       "      <th>Max Temp</th>\n",
       "      <th>Humidity</th>\n",
       "      <th>Wind Speed</th>\n",
       "      <th>Cloudiness</th>\n",
       "      <th>Country</th>\n",
       "      <th>Date</th>\n",
       "    </tr>\n",
       "  </thead>\n",
       "  <tbody>\n",
       "    <tr>\n",
       "      <th>292</th>\n",
       "      <td>Sirsi</td>\n",
       "      <td>14.6167</td>\n",
       "      <td>74.8500</td>\n",
       "      <td>70.72</td>\n",
       "      <td>100</td>\n",
       "      <td>2.04</td>\n",
       "      <td>75</td>\n",
       "      <td>IN</td>\n",
       "      <td>1599436800</td>\n",
       "    </tr>\n",
       "    <tr>\n",
       "      <th>470</th>\n",
       "      <td>Mairang</td>\n",
       "      <td>25.5667</td>\n",
       "      <td>91.6333</td>\n",
       "      <td>62.83</td>\n",
       "      <td>100</td>\n",
       "      <td>4.79</td>\n",
       "      <td>92</td>\n",
       "      <td>IN</td>\n",
       "      <td>1599436800</td>\n",
       "    </tr>\n",
       "    <tr>\n",
       "      <th>499</th>\n",
       "      <td>Ordu</td>\n",
       "      <td>40.9086</td>\n",
       "      <td>37.6845</td>\n",
       "      <td>62.71</td>\n",
       "      <td>100</td>\n",
       "      <td>3.89</td>\n",
       "      <td>13</td>\n",
       "      <td>TR</td>\n",
       "      <td>1599436800</td>\n",
       "    </tr>\n",
       "  </tbody>\n",
       "</table>\n",
       "</div>"
      ],
      "text/plain": [
       "        City  Latitude  Longitude  Max Temp  Humidity  Wind Speed  Cloudiness  \\\n",
       "292    Sirsi   14.6167    74.8500     70.72       100        2.04          75   \n",
       "470  Mairang   25.5667    91.6333     62.83       100        4.79          92   \n",
       "499     Ordu   40.9086    37.6845     62.71       100        3.89          13   \n",
       "\n",
       "    Country        Date  \n",
       "292      IN  1599436800  \n",
       "470      IN  1599436800  \n",
       "499      TR  1599436800  "
      ]
     },
     "execution_count": 8,
     "metadata": {},
     "output_type": "execute_result"
    }
   ],
   "source": [
    "#  Get the indices of cities that have humidity over 100%.\n",
    "one_hund_humid.head()"
   ]
  },
  {
   "cell_type": "code",
   "execution_count": 9,
   "metadata": {},
   "outputs": [
    {
     "data": {
      "image/png": "[encoded data removed]",
      "text/plain": [
       "<Figure size 432x288 with 1 Axes>"
      ]
     },
     "metadata": {
      "needs_background": "light"
     },
     "output_type": "display_data"
    }
   ],
   "source": [
    "# Plotting the Data\n",
    "# Latitude vs. Temperature Plot\n",
    "scatlat = weather_data[\"Latitude\"]\n",
    "scattemp = weather_data[\"Max Temp\"]\n",
    "\n",
    "plt.scatter(scatlat,scattemp)\n",
    "\n",
    "plt.title('Latitude vs. Temperature')\n",
    "\n",
    "plt.xlabel('Latitude')\n",
    "plt.ylabel('Temperature (F)')\n",
    "\n",
    "plt.savefig('LatVsTemp.png')\n",
    "\n",
    "plt.show()"
   ]
  },
  {
   "cell_type": "code",
   "execution_count": 10,
   "metadata": {},
   "outputs": [
    {
     "data": {
      "image/png": "[encoded data removed]",
      "text/plain": [
       "<Figure size 432x288 with 1 Axes>"
      ]
     },
     "metadata": {
      "needs_background": "light"
     },
     "output_type": "display_data"
    }
   ],
   "source": [
    "# Latitude vs. Humidity Plot\n",
    "scatlat = weather_data[\"Latitude\"]\n",
    "scattemp = weather_data[\"Humidity\"]\n",
    "\n",
    "plt.scatter(scatlat,scattemp)\n",
    "\n",
    "plt.title('Latitude vs. Humidity')\n",
    "\n",
    "plt.xlabel('Latitude')\n",
    "plt.ylabel('Humidity')\n",
    "\n",
    "plt.savefig('LatVsHumid.png')\n",
    "\n",
    "plt.show()"
   ]
  },
  {
   "cell_type": "code",
   "execution_count": 11,
   "metadata": {},
   "outputs": [
    {
     "data": {
      "image/png": "[encoded data removed]",
      "text/plain": [
       "<Figure size 432x288 with 1 Axes>"
      ]
     },
     "metadata": {
      "needs_background": "light"
     },
     "output_type": "display_data"
    }
   ],
   "source": [
    "# Latitude vs. Cloudiness Plot\n",
    "cloud = weather_data[\"Cloudiness\"]\n",
    "\n",
    "plt.scatter(scatlat,cloud)\n",
    "\n",
    "plt.title('City Latitude vs. Cloudiness')\n",
    "\n",
    "plt.xlabel('Latitude')\n",
    "plt.ylabel('Cloudiness (%)')\n",
    "\n",
    "plt.savefig('ScatPlotLatVsCloud')\n",
    "\n",
    "plt.show()"
   ]
  },
  {
   "cell_type": "code",
   "execution_count": 12,
   "metadata": {},
   "outputs": [
    {
     "data": {
      "image/png": "[encoded data removed]",
      "text/plain": [
       "<Figure size 432x288 with 1 Axes>"
      ]
     },
     "metadata": {
      "needs_background": "light"
     },
     "output_type": "display_data"
    }
   ],
   "source": [
    "# Latitude vs. Wind Speed Plot\n",
    "wind = weather_data[\"Wind Speed\"]\n",
    "\n",
    "plt.scatter(scatlat,wind)\n",
    "\n",
    "plt.title('City Latitude vs. Wind Speed')\n",
    "\n",
    "plt.xlabel('Latitude')\n",
    "plt.ylabel('Wind Speed (mph)')\n",
    "\n",
    "plt.savefig('ScatPlotLatVsWindSpeed')\n",
    "\n",
    "plt.show()"
   ]
  },
  {
   "cell_type": "code",
   "execution_count": 13,
   "metadata": {},
   "outputs": [],
   "source": [
    "# Linear Regression\n",
    "# OPTIONAL: Create a function to create Linear Regression plots\n",
    "\n",
    "def plot_linear_regression(x_values, y_values, title, text_coordinates):\n",
    "    (slope, intercept, rvalue, pvalue, stderr) = linregress(x_values, y_values)\n",
    "    regress_values = x_values * slope + intercept\n",
    "    line_eq = \"y = \" + str(round(slope,2)) + \"x + \" + str(round(intercept,2))\n",
    "    \n",
    "    plt.scatter(x_values,y_values)\n",
    "    \n",
    "    plt.plot(x_values,regress_values,\"r-\")\n",
    "    \n",
    "    plt.annotate (line_eq,text_coordinates,fontsize=14,color=\"red\")\n",
    "    \n",
    "    plt.xlabel(\"Latitude\")\n",
    "    \n",
    "    plt.ylabel(title)\n",
    "    \n",
    "    print(f\"The r-squared is: {rvalue}\")\n",
    "    \n",
    "    plt.show()"
   ]
  },
  {
   "cell_type": "code",
   "execution_count": 14,
   "metadata": {},
   "outputs": [],
   "source": [
    "# Create Northern and Southern Hemisphere DataFrames\n",
    "\n",
    "north_df = weather_data.loc[weather_data[\"Latitude\"] >= 0,:]\n",
    "\n",
    "south_df = weather_data.loc[weather_data[\"Latitude\"] < 0,:]"
   ]
  },
  {
   "cell_type": "code",
   "execution_count": 15,
   "metadata": {},
   "outputs": [
    {
     "name": "stdout",
     "output_type": "stream",
     "text": [
      "The r-squared is: -0.7828810530755059\n"
     ]
    },
    {
     "data": {
      "image/png": "[encoded data removed]",
      "text/plain": [
       "<Figure size 432x288 with 1 Axes>"
      ]
     },
     "metadata": {
      "needs_background": "light"
     },
     "output_type": "display_data"
    },
    {
     "name": "stdout",
     "output_type": "stream",
     "text": [
      "The  r value indicates a  negative correlation between latitude and temperature.\n"
     ]
    },
    {
     "data": {
      "text/plain": [
       "<Figure size 432x288 with 0 Axes>"
      ]
     },
     "metadata": {},
     "output_type": "display_data"
    }
   ],
   "source": [
    "# Northern Hemisphere - Max Temp vs. Latitude Linear Regression\n",
    "x_values = north_df[\"Latitude\"]\n",
    "y_values = north_df[\"Max Temp\"]\n",
    "plot_linear_regression(x_values,y_values,'Max Temp',(6,30))\n",
    "\n",
    "plt.savefig('NortHemMaxTempVsLat')\n",
    "\n",
    "print(\"The  r value indicates a  negative correlation between latitude and temperature.\")"
   ]
  },
  {
   "cell_type": "code",
   "execution_count": 16,
   "metadata": {},
   "outputs": [
    {
     "name": "stdout",
     "output_type": "stream",
     "text": [
      "The r-squared is: 0.7879887416102633\n"
     ]
    },
    {
     "data": {
      "image/png": "[encoded data removed]",
      "text/plain": [
       "<Figure size 432x288 with 1 Axes>"
      ]
     },
     "metadata": {
      "needs_background": "light"
     },
     "output_type": "display_data"
    },
    {
     "name": "stdout",
     "output_type": "stream",
     "text": [
      "The  r value indicates a  positive correlation between latitude and temperature.\n"
     ]
    },
    {
     "data": {
      "text/plain": [
       "<Figure size 432x288 with 0 Axes>"
      ]
     },
     "metadata": {},
     "output_type": "display_data"
    }
   ],
   "source": [
    "# Southern Hemisphere - Max Temp vs. Latitude Linear Regression\n",
    "x_values = south_df[\"Latitude\"]\n",
    "y_values = south_df[\"Max Temp\"]\n",
    "plot_linear_regression(x_values,y_values,'Max Temp',(6,30))\n",
    "\n",
    "plt.savefig('SouthHemMaxTempVsLat')\n",
    "\n",
    "print(\"The  r value indicates a  positive correlation between latitude and temperature.\")"
   ]
  },
  {
   "cell_type": "code",
   "execution_count": 17,
   "metadata": {},
   "outputs": [
    {
     "name": "stdout",
     "output_type": "stream",
     "text": [
      "The r-squared is: 0.03977007738886756\n"
     ]
    },
    {
     "data": {
      "image/png": "[encoded data removed]",
      "text/plain": [
       "<Figure size 432x288 with 1 Axes>"
      ]
     },
     "metadata": {
      "needs_background": "light"
     },
     "output_type": "display_data"
    },
    {
     "data": {
      "text/plain": [
       "<Figure size 432x288 with 0 Axes>"
      ]
     },
     "metadata": {},
     "output_type": "display_data"
    }
   ],
   "source": [
    "# Northern Hemisphere - Humidity (%) vs. Latitude Linear Regression\n",
    "x_values = north_df[\"Latitude\"]\n",
    "y_values = north_df[\"Humidity\"]\n",
    "plot_linear_regression(x_values,y_values,'Humidity',(6,30))\n",
    "\n",
    "plt.savefig('NorthHemHumidVsLatLinReg')"
   ]
  },
  {
   "cell_type": "code",
   "execution_count": 18,
   "metadata": {},
   "outputs": [
    {
     "name": "stdout",
     "output_type": "stream",
     "text": [
      "The r-squared is: 0.0299432335333344\n"
     ]
    },
    {
     "data": {
      "image/png": "[encoded data removed]",
      "text/plain": [
       "<Figure size 432x288 with 1 Axes>"
      ]
     },
     "metadata": {
      "needs_background": "light"
     },
     "output_type": "display_data"
    },
    {
     "data": {
      "text/plain": [
       "<Figure size 432x288 with 0 Axes>"
      ]
     },
     "metadata": {},
     "output_type": "display_data"
    }
   ],
   "source": [
    "# Southern Hemisphere - Humidity (%) vs. Latitude Linear Regression\n",
    "x_values = south_df[\"Latitude\"]\n",
    "y_values = south_df[\"Humidity\"]\n",
    "plot_linear_regression(x_values,y_values,'Humidity',(6,30))\n",
    "\n",
    "plt.savefig('SouthHemHumVsLatLinReg')"
   ]
  },
  {
   "cell_type": "code",
   "execution_count": 19,
   "metadata": {},
   "outputs": [
    {
     "name": "stdout",
     "output_type": "stream",
     "text": [
      "The r-squared is: 0.03776751223076372\n"
     ]
    },
    {
     "data": {
      "image/png": "[encoded data removed]",
      "text/plain": [
       "<Figure size 432x288 with 1 Axes>"
      ]
     },
     "metadata": {
      "needs_background": "light"
     },
     "output_type": "display_data"
    },
    {
     "name": "stdout",
     "output_type": "stream",
     "text": [
      "The r-value indicates that there is no relationship.\n"
     ]
    },
    {
     "data": {
      "text/plain": [
       "<Figure size 432x288 with 0 Axes>"
      ]
     },
     "metadata": {},
     "output_type": "display_data"
    }
   ],
   "source": [
    "# Northern Hemisphere - Cloudiness (%) vs. Latitude Linear Regression\n",
    "x_values = north_df[\"Latitude\"]\n",
    "y_values = north_df[\"Cloudiness\"]\n",
    "plot_linear_regression(x_values,y_values,'Cloudiness',(6,30))\n",
    "\n",
    "plt.savefig('NorthHemCloudVsLatLinReg')\n",
    "print(\"The r-value indicates that there is no relationship.\")"
   ]
  },
  {
   "cell_type": "code",
   "execution_count": 20,
   "metadata": {},
   "outputs": [
    {
     "name": "stdout",
     "output_type": "stream",
     "text": [
      "The r-squared is: 0.22809206526165032\n"
     ]
    },
    {
     "data": {
      "image/png": "[encoded data removed]",
      "text/plain": [
       "<Figure size 432x288 with 1 Axes>"
      ]
     },
     "metadata": {
      "needs_background": "light"
     },
     "output_type": "display_data"
    },
    {
     "name": "stdout",
     "output_type": "stream",
     "text": [
      "The r-value indicates that there is no relationship.\n"
     ]
    },
    {
     "data": {
      "text/plain": [
       "<Figure size 432x288 with 0 Axes>"
      ]
     },
     "metadata": {},
     "output_type": "display_data"
    }
   ],
   "source": [
    "# Southern Hemisphere - Cloudiness (%) vs. Latitude Linear Regression\n",
    "x_values = south_df[\"Latitude\"]\n",
    "y_values = south_df[\"Cloudiness\"]\n",
    "plot_linear_regression(x_values,y_values,'Cloudiness',(6,30))\n",
    "\n",
    "plt.savefig('SouthHemCloudVsLatLinReg')\n",
    "print(\"The r-value indicates that there is no relationship.\")"
   ]
  },
  {
   "cell_type": "code",
   "execution_count": 21,
   "metadata": {},
   "outputs": [
    {
     "name": "stdout",
     "output_type": "stream",
     "text": [
      "The r-squared is: 0.05296663649150932\n"
     ]
    },
    {
     "data": {
      "image/png": "[encoded data removed]",
      "text/plain": [
       "<Figure size 432x288 with 1 Axes>"
      ]
     },
     "metadata": {
      "needs_background": "light"
     },
     "output_type": "display_data"
    },
    {
     "name": "stdout",
     "output_type": "stream",
     "text": [
      "The r-value indicates that there is no relationship.\n"
     ]
    },
    {
     "data": {
      "text/plain": [
       "<Figure size 432x288 with 0 Axes>"
      ]
     },
     "metadata": {},
     "output_type": "display_data"
    }
   ],
   "source": [
    "# Northern Hemisphere - Wind Speed (mph) vs. Latitude Linear Regression\n",
    "x_values = north_df[\"Latitude\"]\n",
    "y_values = north_df[\"Wind Speed\"]\n",
    "plot_linear_regression(x_values,y_values,'Wind Speed',(6,30))\n",
    "\n",
    "plt.savefig('NorthHemWindSpeedVsLatLinReg')\n",
    "print(\"The r-value indicates that there is no relationship.\")"
   ]
  },
  {
   "cell_type": "code",
   "execution_count": 22,
   "metadata": {},
   "outputs": [
    {
     "name": "stdout",
     "output_type": "stream",
     "text": [
      "The r-squared is: -0.10652897464810558\n"
     ]
    },
    {
     "data": {
      "image/png": "[encoded data removed]",
      "text/plain": [
       "<Figure size 432x288 with 1 Axes>"
      ]
     },
     "metadata": {
      "needs_background": "light"
     },
     "output_type": "display_data"
    },
    {
     "name": "stdout",
     "output_type": "stream",
     "text": [
      "The r-value indicates that there is no relationship.\n"
     ]
    },
    {
     "data": {
      "text/plain": [
       "<Figure size 432x288 with 0 Axes>"
      ]
     },
     "metadata": {},
     "output_type": "display_data"
    }
   ],
   "source": [
    "# Southern Hemisphere - Wind Speed (mph) vs. Latitude Linear Regression\n",
    "x_values = south_df[\"Latitude\"]\n",
    "y_values = south_df[\"Wind Speed\"]\n",
    "plot_linear_regression(x_values,y_values,'Wind Speed',(6,30))\n",
    "\n",
    "plt.savefig('SouthHemWindSpeedVsLatLinReg')\n",
    "print(\"The r-value indicates that there is no relationship.\")"
   ]
  },
  {
   "cell_type": "code",
   "execution_count": null,
   "metadata": {},
   "outputs": [],
   "source": []
  }
 ],
 "metadata": {
  "kernelspec": {
   "display_name": "Python 3",
   "language": "python",
   "name": "python3"
  },
  "language_info": {
   "codemirror_mode": {
    "name": "ipython",
    "version": 3
   },
   "file_extension": ".py",
   "mimetype": "text/x-python",
   "name": "python",
   "nbconvert_exporter": "python",
   "pygments_lexer": "ipython3",
   "version": "3.6.10"
  }
 },
 "nbformat": 4,
 "nbformat_minor": 4
}
